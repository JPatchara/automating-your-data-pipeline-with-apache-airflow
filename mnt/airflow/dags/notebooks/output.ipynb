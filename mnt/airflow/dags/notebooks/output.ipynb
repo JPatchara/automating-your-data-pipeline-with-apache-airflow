{
 "cells": [
  {
   "cell_type": "code",
   "execution_count": 1,
   "metadata": {
    "execution": {
     "iopub.execute_input": "2020-09-04T09:15:11.233053Z",
     "iopub.status.busy": "2020-09-04T09:15:11.231275Z",
     "iopub.status.idle": "2020-09-04T09:15:11.236255Z",
     "shell.execute_reply": "2020-09-04T09:15:11.234738Z"
    },
    "jupyter": {
     "source_hidden": true
    },
    "papermill": {
     "duration": 0.042869,
     "end_time": "2020-09-04T09:15:11.236463",
     "exception": false,
     "start_time": "2020-09-04T09:15:11.193594",
     "status": "completed"
    },
    "tags": [
     "parameters"
    ]
   },
   "outputs": [],
   "source": [
    "name = 'Kan'\n",
    "x = 10\n",
    "y = 5"
   ]
  },
  {
   "cell_type": "code",
   "execution_count": 2,
   "metadata": {
    "execution": {
     "iopub.execute_input": "2020-09-04T09:15:11.281407Z",
     "iopub.status.busy": "2020-09-04T09:15:11.280613Z",
     "iopub.status.idle": "2020-09-04T09:15:11.282212Z",
     "shell.execute_reply": "2020-09-04T09:15:11.282873Z"
    },
    "jupyter": {
     "source_hidden": true
    },
    "papermill": {
     "duration": 0.025313,
     "end_time": "2020-09-04T09:15:11.283083",
     "exception": false,
     "start_time": "2020-09-04T09:15:11.257770",
     "status": "completed"
    },
    "tags": [
     "injected-parameters"
    ]
   },
   "outputs": [],
   "source": [
    "# Parameters\n",
    "name = \"ODDS\"\n",
    "x = 0.1\n",
    "y = 10\n"
   ]
  },
  {
   "cell_type": "code",
   "execution_count": 3,
   "metadata": {
    "execution": {
     "iopub.execute_input": "2020-09-04T09:15:11.343258Z",
     "iopub.status.busy": "2020-09-04T09:15:11.342611Z",
     "iopub.status.idle": "2020-09-04T09:15:11.347154Z",
     "shell.execute_reply": "2020-09-04T09:15:11.346642Z"
    },
    "jupyter": {
     "source_hidden": true
    },
    "papermill": {
     "duration": 0.029236,
     "end_time": "2020-09-04T09:15:11.347271",
     "exception": false,
     "start_time": "2020-09-04T09:15:11.318035",
     "status": "completed"
    },
    "tags": []
   },
   "outputs": [
    {
     "name": "stdout",
     "output_type": "stream",
     "text": [
      "ODDS\n"
     ]
    }
   ],
   "source": [
    "print(name)"
   ]
  },
  {
   "cell_type": "code",
   "execution_count": 4,
   "metadata": {
    "execution": {
     "iopub.execute_input": "2020-09-04T09:15:11.399263Z",
     "iopub.status.busy": "2020-09-04T09:15:11.398566Z",
     "iopub.status.idle": "2020-09-04T09:15:11.402880Z",
     "shell.execute_reply": "2020-09-04T09:15:11.410448Z"
    },
    "jupyter": {
     "source_hidden": true
    },
    "papermill": {
     "duration": 0.040603,
     "end_time": "2020-09-04T09:15:11.412049",
     "exception": false,
     "start_time": "2020-09-04T09:15:11.371446",
     "status": "completed"
    },
    "tags": []
   },
   "outputs": [],
   "source": [
    "def add(x, y):\n",
    "    return x + y"
   ]
  },
  {
   "cell_type": "code",
   "execution_count": 5,
   "metadata": {
    "execution": {
     "iopub.execute_input": "2020-09-04T09:15:11.495408Z",
     "iopub.status.busy": "2020-09-04T09:15:11.494098Z",
     "iopub.status.idle": "2020-09-04T09:15:11.540330Z",
     "shell.execute_reply": "2020-09-04T09:15:11.541316Z"
    },
    "jupyter": {
     "source_hidden": true
    },
    "papermill": {
     "duration": 0.105672,
     "end_time": "2020-09-04T09:15:11.541528",
     "exception": false,
     "start_time": "2020-09-04T09:15:11.435856",
     "status": "completed"
    },
    "tags": []
   },
   "outputs": [
    {
     "data": {
      "text/plain": [
       "10.1"
      ]
     },
     "execution_count": 5,
     "metadata": {},
     "output_type": "execute_result"
    }
   ],
   "source": [
    "add(x, y)"
   ]
  },
  {
   "cell_type": "code",
   "execution_count": null,
   "metadata": {
    "jupyter": {
     "source_hidden": true
    },
    "papermill": {
     "duration": 0.015511,
     "end_time": "2020-09-04T09:15:11.571003",
     "exception": false,
     "start_time": "2020-09-04T09:15:11.555492",
     "status": "completed"
    },
    "tags": []
   },
   "outputs": [],
   "source": []
  }
 ],
 "metadata": {
  "celltoolbar": "Tags",
  "kernelspec": {
   "display_name": "Python 3",
   "language": "python",
   "name": "python3"
  },
  "language_info": {
   "codemirror_mode": {
    "name": "ipython",
    "version": 3
   },
   "file_extension": ".py",
   "mimetype": "text/x-python",
   "name": "python",
   "nbconvert_exporter": "python",
   "pygments_lexer": "ipython3",
   "version": "3.7.6"
  },
  "papermill": {
   "duration": 2.342749,
   "end_time": "2020-09-04T09:15:12.029246",
   "environment_variables": {},
   "exception": null,
   "input_path": "/usr/local/airflow/dags/notebooks/input.ipynb",
   "output_path": "/usr/local/airflow/dags/notebooks/output.ipynb",
   "parameters": {
    "name": "ODDS",
    "x": 0.1,
    "y": 10
   },
   "start_time": "2020-09-04T09:15:09.686497",
   "version": "2.1.2"
  }
 },
 "nbformat": 4,
 "nbformat_minor": 2
}
